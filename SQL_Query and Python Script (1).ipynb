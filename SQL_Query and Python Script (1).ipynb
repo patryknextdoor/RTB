{
 "cells": [
  {
   "cell_type": "code",
   "execution_count": 2,
   "id": "6efd03af-25df-4b51-8b84-52e5d72320d3",
   "metadata": {},
   "outputs": [
    {
     "name": "stdout",
     "output_type": "stream",
     "text": [
      "Table 'final_report' with aggregation columns has been created in 'rtb_database.db'\n"
     ]
    }
   ],
   "source": [
    "import sqlite3\n",
    "\n",
    "conn = sqlite3.connect('rtb_database.db')\n",
    "cursor = conn.cursor()\n",
    "create_table_query = \"\"\"\n",
    "CREATE TABLE IF NOT EXISTS final_report (\n",
    "    id INTEGER PRIMARY KEY AUTOINCREMENT,\n",
    "    month TEXT,\n",
    "    campaign_id INTEGER,\n",
    "    brand TEXT,\n",
    "    number_of_clicks INTEGER,\n",
    "    number_of_transactions INTEGER,\n",
    "    advertising_campaign_cost REAL,\n",
    "    value_of_products REAL\n",
    ");\n",
    "\"\"\"\n",
    "\n",
    "cursor.execute(create_table_query)\n",
    "conn.commit()\n",
    "conn.close()\n",
    "\n",
    "print(\"Table 'final_report' with aggregation columns has been created in 'rtb_database.db'\")\n"
   ]
  },
  {
   "cell_type": "code",
   "execution_count": 3,
   "id": "55395453-86f6-4ee0-9861-739e94c35302",
   "metadata": {},
   "outputs": [
    {
     "name": "stdout",
     "output_type": "stream",
     "text": [
      "Data has been successfully inserted into the 'final_report' table.\n"
     ]
    }
   ],
   "source": [
    "conn = sqlite3.connect('rtb_database.db')\n",
    "cursor = conn.cursor()\n",
    "\n",
    "sql_query = \"\"\"\n",
    "WITH MonthlyClicks AS (\n",
    "    SELECT strftime('%Y-%m', date) AS month, campaign_id, COUNT(*) AS number_of_clicks \n",
    "    FROM clicks \n",
    "    GROUP BY month, campaign_id\n",
    "),\n",
    "\n",
    "MonthlyTransactions AS (\n",
    "    SELECT strftime('%Y-%m', date) AS month, campaign_id, COUNT(DISTINCT transaction_id) AS number_of_transactions \n",
    "    FROM transactions \n",
    "    GROUP BY month, campaign_id\n",
    "),\n",
    "\n",
    "CampaignCost AS (\n",
    "    SELECT \n",
    "        strftime('%Y-%m', t.date) AS month,\n",
    "        t.campaign_id,\n",
    "        SUM(0.01 * c.number_of_clicks + 0.10 * t.transaction_value) AS advertising_campaign_cost\n",
    "    FROM \n",
    "        MonthlyClicks c\n",
    "    JOIN \n",
    "        transactions t ON c.campaign_id = t.campaign_id\n",
    "    GROUP BY \n",
    "        month, t.campaign_id\n",
    "),\n",
    "\n",
    "ProductValues AS (\n",
    "    SELECT \n",
    "        strftime('%Y-%m', t.date) AS month,\n",
    "        p.brand,\n",
    "        SUM(p.price) AS value_of_products\n",
    "    FROM \n",
    "        transactions t\n",
    "    JOIN \n",
    "        transactions_products tp ON t.transaction_id = tp.transaction_id\n",
    "    JOIN \n",
    "        products p ON tp.product_id = p.id\n",
    "    GROUP BY \n",
    "        month, p.brand\n",
    ")\n",
    "\n",
    "INSERT INTO final_report (month, campaign_id, brand, number_of_clicks, number_of_transactions, advertising_campaign_cost, value_of_products)\n",
    "SELECT \n",
    "    mc.month,\n",
    "    mc.campaign_id,\n",
    "    pv.brand,\n",
    "    mc.number_of_clicks,\n",
    "    mt.number_of_transactions,\n",
    "    cc.advertising_campaign_cost,\n",
    "    pv.value_of_products\n",
    "FROM \n",
    "    MonthlyClicks mc\n",
    "JOIN \n",
    "    MonthlyTransactions mt ON mc.campaign_id = mt.campaign_id AND mc.month = mt.month\n",
    "JOIN \n",
    "    CampaignCost cc ON mc.campaign_id = cc.campaign_id AND mc.month = cc.month\n",
    "JOIN \n",
    "    ProductValues pv ON mc.month = pv.month\n",
    "ORDER BY \n",
    "    mc.month, mc.campaign_id, pv.brand;\n",
    "\"\"\"\n",
    "\n",
    "cursor.execute(sql_query)\n",
    "conn.commit()\n",
    "conn.close()\n",
    "\n",
    "print(\"Data has been successfully inserted into the 'final_report' table.\")\n"
   ]
  },
  {
   "cell_type": "code",
   "execution_count": null,
   "id": "5f259a20-077c-409a-8fbb-840c96d557cc",
   "metadata": {},
   "outputs": [],
   "source": [
    "# Saving the output into CSV\n",
    "\n",
    "import csv\n",
    "\n",
    "conn = sqlite3.connect('rtb_database.db')\n",
    "cursor = conn.cursor()\n",
    "\n",
    "sql_query = sql_query\n",
    "\n",
    "results = cursor.execute(sql_query).fetchall()\n",
    "\n",
    "headers = [i[0] for i in cursor.description]\n",
    "\n",
    "with open('final_report.csv', 'w', newline='') as f:\n",
    "    writer = csv.writer(f)\n",
    "    writer.writerow(headers)\n",
    "    writer.writerows(results)"
   ]
  },
  {
   "cell_type": "code",
   "execution_count": null,
   "id": "97154d4e-2224-4d9c-b754-0c06d4032032",
   "metadata": {},
   "outputs": [],
   "source": [
    "df ="
   ]
  }
 ],
 "metadata": {
  "kernelspec": {
   "display_name": "Python 3 (ipykernel)",
   "language": "python",
   "name": "python3"
  },
  "language_info": {
   "codemirror_mode": {
    "name": "ipython",
    "version": 3
   },
   "file_extension": ".py",
   "mimetype": "text/x-python",
   "name": "python",
   "nbconvert_exporter": "python",
   "pygments_lexer": "ipython3",
   "version": "3.9.13"
  }
 },
 "nbformat": 4,
 "nbformat_minor": 5
}
